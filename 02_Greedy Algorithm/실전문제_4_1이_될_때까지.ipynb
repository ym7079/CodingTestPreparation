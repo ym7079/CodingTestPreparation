{
  "nbformat": 4,
  "nbformat_minor": 0,
  "metadata": {
    "colab": {
      "name": "실전문제_4_1이 될 때까지.ipynb",
      "provenance": [],
      "collapsed_sections": [],
      "mount_file_id": "12mr_zCTjGVpuIMSqoPTJPan25QLRiPCl",
      "authorship_tag": "ABX9TyM2Gs4v7gDfHV/J1q1Sgf8n",
      "include_colab_link": true
    },
    "kernelspec": {
      "name": "python3",
      "display_name": "Python 3"
    },
    "language_info": {
      "name": "python"
    }
  },
  "cells": [
    {
      "cell_type": "markdown",
      "metadata": {
        "id": "view-in-github",
        "colab_type": "text"
      },
      "source": [
        "<a href=\"https://colab.research.google.com/github/ym7079/CodingTestPreparation/blob/main/%EC%8B%A4%EC%A0%84%EB%AC%B8%EC%A0%9C_4_1%EC%9D%B4_%EB%90%A0_%EB%95%8C%EA%B9%8C%EC%A7%80.ipynb\" target=\"_parent\"><img src=\"https://colab.research.google.com/assets/colab-badge.svg\" alt=\"Open In Colab\"/></a>"
      ]
    },
    {
      "cell_type": "markdown",
      "source": [
        "#1이 될 때까지\n",
        "\n",
        "## <문제> 1이 될 때까지 문제 설명\n",
        "\n",
        "- 어떠한 수 N이 1이 될 때까지 다음의 두 과정 중 하나를 반복적으로 선택하여 수행하려고 합니다.</br>\n",
        "단, 두 번째 연산은 N이 K로 나누어 떨어질 때만 선택할 수 있습니다.\n",
        "</br>1. N에서 1을 뺍니다.\n",
        "</br>2. N을 K로 나눕니다.\n",
        "\n",
        "- 예를 들어 N이 17, K가 4라고 가정합시다. </br>\n",
        "이때 1번의 과정을 한 번 수행하면 N은 16이 됩니다.</br>\n",
        "이후에 2번의 과정을 두 번 수행하면 N은 1이 됩니다.</br>\n",
        "결과적으로 이 경우 전체 과정을 실행한 횟수는 3이 됩니다.</br>\n",
        "이는 N을 1로 만드는 최소 횟수입니다.\n",
        "\n",
        "- N과 K가 주어질 때 N이 1이 될 때까지 1번 혹은 2번의 과정을 수행해야 하는 최소 횟수를 구하는 프로그램을 작성하세요."
      ],
      "metadata": {
        "id": "Zrz4WLsglJCt"
      }
    },
    {
      "cell_type": "markdown",
      "source": [
        "### 난이도: 1 | 풀이시간: 15분 | 시간제한: 2초 | 메모리 제한: 128MB\n",
        "#### 입력조건\n",
        "- 첫째 줄에 N(1 <= N <= 100,000)과 K(2 <= K <= 100,000)가 공백을 기준으로 하여 각각 자연수로 주어집니다.\n",
        "\n",
        "#### 출력조건\n",
        "- 첫째 줄에 N이 1이 될 때까지 1번 혹은 2번의 과정을 수행해야 하는 횟수의 최솟값을 출력합니다.\n",
        "\n",
        "#### 입력예시: 25 5     |     출력예시: 5"
      ],
      "metadata": {
        "id": "uuwwKSHSmlWA"
      }
    },
    {
      "cell_type": "code",
      "source": [
        "a = '123 4'\n",
        "b,c = a.split()\n",
        "b, c = map(int,a.split())\n",
        "b"
      ],
      "metadata": {
        "colab": {
          "base_uri": "https://localhost:8080/"
        },
        "id": "ljeA7R8JpO3J",
        "outputId": "5d87510a-f5db-4c96-ac71-62e4828b0883"
      },
      "execution_count": null,
      "outputs": [
        {
          "output_type": "execute_result",
          "data": {
            "text/plain": [
              "123"
            ]
          },
          "metadata": {},
          "execution_count": 6
        }
      ]
    },
    {
      "cell_type": "code",
      "execution_count": null,
      "metadata": {
        "colab": {
          "base_uri": "https://localhost:8080/"
        },
        "id": "mQm8qtSFkSCe",
        "outputId": "4a19f305-596d-4dcc-cf69-d84b6ea05e69"
      },
      "outputs": [
        {
          "output_type": "execute_result",
          "data": {
            "text/plain": [
              "6"
            ]
          },
          "metadata": {},
          "execution_count": 9
        }
      ],
      "source": [
        "def func(string):\n",
        "   N, K = map(int, string.split())\n",
        "   cnt = 0\n",
        "   while N != 1:\n",
        "       if (N % K) == 0:\n",
        "           N //= K\n",
        "       else:\n",
        "           N -= 1\n",
        "       cnt += 1   \n",
        "   return cnt\n",
        "\n",
        "func('25 3')\n",
        "       "
      ]
    },
    {
      "cell_type": "markdown",
      "source": [
        "### Answer "
      ],
      "metadata": {
        "id": "F4cCPC5YTrnt"
      }
    },
    {
      "cell_type": "markdown",
      "source": [
        "쓸데없는 반복문을 피해서 시간복잡도는 낮추는 것이 핵심!!\n",
        "- 1을 빼는 계산을 for문으로 반복문을 사용하지 않고 한번에 계산함으로써 시간복잡도를 log(n)으로 줄일 수 있음"
      ],
      "metadata": {
        "id": "6AQGxfqcTu5i"
      }
    },
    {
      "cell_type": "code",
      "source": [
        "def answer(string):\n",
        "    n, k = map(int, string.split())\n",
        "    \n",
        "    result = 0\n",
        "    \n",
        "    while True:\n",
        "        # n이 k로 나누어 떨어지는 수가 될 때까지 1을 빼는 횟수 계산\n",
        "        target = (n//k)*k #target => n에 가장 가까운 k로 나누어 떨어지는 수\n",
        "        result += n - target #1을 빼는 횟수 계산\n",
        "        n = target\n",
        "        if n < k:\n",
        "            break\n",
        "        #k로 나누기\n",
        "        n //= k\n",
        "        result += 1\n",
        "\n",
        "    # 마지막으로 남은 수에 대하여 1씩 빼는 계산을 한번에 처리\n",
        "    result += n-1\n",
        "    return result\n",
        "\n",
        "answer('25 3')"
      ],
      "metadata": {
        "colab": {
          "base_uri": "https://localhost:8080/"
        },
        "id": "o56ypSQ7tb4y",
        "outputId": "fb6f78be-edb2-4fde-dcc6-db6ce54755e0"
      },
      "execution_count": null,
      "outputs": [
        {
          "output_type": "execute_result",
          "data": {
            "text/plain": [
              "6"
            ]
          },
          "metadata": {},
          "execution_count": 4
        }
      ]
    },
    {
      "cell_type": "code",
      "source": [
        "%cd '/content/drive/MyDrive/Colab Notebooks/03_Books/03_이것이 취업을 위한 코딩 테스트다'"
      ],
      "metadata": {
        "colab": {
          "base_uri": "https://localhost:8080/"
        },
        "id": "Gii1UoTykFxE",
        "outputId": "0925fbd9-9266-4d99-f92f-0fd23509233d"
      },
      "execution_count": null,
      "outputs": [
        {
          "output_type": "stream",
          "name": "stdout",
          "text": [
            "/content/drive/MyDrive/Colab Notebooks/03_Books/03_이것이 취업을 위한 코딩 테스트다\n"
          ]
        }
      ]
    }
  ]
}
